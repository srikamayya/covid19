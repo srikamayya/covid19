{
 "cells": [
  {
   "cell_type": "markdown",
   "metadata": {},
   "source": [
    "# Because of Population Density virus got Spread?"
   ]
  },
  {
   "cell_type": "markdown",
   "metadata": {},
   "source": [
    "To Answer this Question we need to work on different data sets lets work onit and see "
   ]
  },
  {
   "cell_type": "markdown",
   "metadata": {},
   "source": [
    "Import required python modules which are helpful to analyze the data"
   ]
  },
  {
   "cell_type": "code",
   "execution_count": 1,
   "metadata": {},
   "outputs": [],
   "source": [
    "import pandas as pd\n",
    "import datetime\n",
    "import matplotlib.pyplot as plt\n",
    "import matplotlib.patches as mpatches\n",
    "import numpy as np"
   ]
  },
  {
   "cell_type": "markdown",
   "metadata": {},
   "source": [
    "lets read data set related to day wise cases"
   ]
  },
  {
   "cell_type": "code",
   "execution_count": 2,
   "metadata": {
    "scrolled": true
   },
   "outputs": [
    {
     "data": {
      "text/html": [
       "<div>\n",
       "<style scoped>\n",
       "    .dataframe tbody tr th:only-of-type {\n",
       "        vertical-align: middle;\n",
       "    }\n",
       "\n",
       "    .dataframe tbody tr th {\n",
       "        vertical-align: top;\n",
       "    }\n",
       "\n",
       "    .dataframe thead th {\n",
       "        text-align: right;\n",
       "    }\n",
       "</style>\n",
       "<table border=\"1\" class=\"dataframe\">\n",
       "  <thead>\n",
       "    <tr style=\"text-align: right;\">\n",
       "      <th></th>\n",
       "      <th>Sno</th>\n",
       "      <th>Date</th>\n",
       "      <th>Time</th>\n",
       "      <th>State</th>\n",
       "      <th>ConfirmedIndianNational</th>\n",
       "      <th>ConfirmedForeignNational</th>\n",
       "      <th>Cured</th>\n",
       "      <th>Deaths</th>\n",
       "      <th>Confirmed</th>\n",
       "    </tr>\n",
       "  </thead>\n",
       "  <tbody>\n",
       "    <tr>\n",
       "      <td>0</td>\n",
       "      <td>1</td>\n",
       "      <td>30/01/2020</td>\n",
       "      <td>6:00 pm</td>\n",
       "      <td>Kerala</td>\n",
       "      <td>1</td>\n",
       "      <td>0</td>\n",
       "      <td>0</td>\n",
       "      <td>0</td>\n",
       "      <td>1</td>\n",
       "    </tr>\n",
       "    <tr>\n",
       "      <td>1</td>\n",
       "      <td>2</td>\n",
       "      <td>31/01/2020</td>\n",
       "      <td>6:00 pm</td>\n",
       "      <td>Kerala</td>\n",
       "      <td>1</td>\n",
       "      <td>0</td>\n",
       "      <td>0</td>\n",
       "      <td>0</td>\n",
       "      <td>1</td>\n",
       "    </tr>\n",
       "    <tr>\n",
       "      <td>2</td>\n",
       "      <td>3</td>\n",
       "      <td>01/02/2020</td>\n",
       "      <td>6:00 pm</td>\n",
       "      <td>Kerala</td>\n",
       "      <td>2</td>\n",
       "      <td>0</td>\n",
       "      <td>0</td>\n",
       "      <td>0</td>\n",
       "      <td>2</td>\n",
       "    </tr>\n",
       "    <tr>\n",
       "      <td>3</td>\n",
       "      <td>4</td>\n",
       "      <td>02/02/2020</td>\n",
       "      <td>6:00 pm</td>\n",
       "      <td>Kerala</td>\n",
       "      <td>3</td>\n",
       "      <td>0</td>\n",
       "      <td>0</td>\n",
       "      <td>0</td>\n",
       "      <td>3</td>\n",
       "    </tr>\n",
       "    <tr>\n",
       "      <td>4</td>\n",
       "      <td>5</td>\n",
       "      <td>03/02/2020</td>\n",
       "      <td>6:00 pm</td>\n",
       "      <td>Kerala</td>\n",
       "      <td>3</td>\n",
       "      <td>0</td>\n",
       "      <td>0</td>\n",
       "      <td>0</td>\n",
       "      <td>3</td>\n",
       "    </tr>\n",
       "  </tbody>\n",
       "</table>\n",
       "</div>"
      ],
      "text/plain": [
       "   Sno        Date     Time   State ConfirmedIndianNational  \\\n",
       "0    1  30/01/2020  6:00 pm  Kerala                       1   \n",
       "1    2  31/01/2020  6:00 pm  Kerala                       1   \n",
       "2    3  01/02/2020  6:00 pm  Kerala                       2   \n",
       "3    4  02/02/2020  6:00 pm  Kerala                       3   \n",
       "4    5  03/02/2020  6:00 pm  Kerala                       3   \n",
       "\n",
       "  ConfirmedForeignNational  Cured  Deaths  Confirmed  \n",
       "0                        0      0       0          1  \n",
       "1                        0      0       0          1  \n",
       "2                        0      0       0          2  \n",
       "3                        0      0       0          3  \n",
       "4                        0      0       0          3  "
      ]
     },
     "execution_count": 2,
     "metadata": {},
     "output_type": "execute_result"
    }
   ],
   "source": [
    "# Read Data from file\n",
    "df_Day_Wise_Cases = pd.read_csv(\"covid_19_india.csv\") \n",
    "df_Day_Wise_Cases.head()"
   ]
  },
  {
   "cell_type": "markdown",
   "metadata": {},
   "source": [
    "Data set related to state wise tesitng deails"
   ]
  },
  {
   "cell_type": "code",
   "execution_count": 3,
   "metadata": {},
   "outputs": [
    {
     "data": {
      "text/html": [
       "<div>\n",
       "<style scoped>\n",
       "    .dataframe tbody tr th:only-of-type {\n",
       "        vertical-align: middle;\n",
       "    }\n",
       "\n",
       "    .dataframe tbody tr th {\n",
       "        vertical-align: top;\n",
       "    }\n",
       "\n",
       "    .dataframe thead th {\n",
       "        text-align: right;\n",
       "    }\n",
       "</style>\n",
       "<table border=\"1\" class=\"dataframe\">\n",
       "  <thead>\n",
       "    <tr style=\"text-align: right;\">\n",
       "      <th></th>\n",
       "      <th>Date</th>\n",
       "      <th>State</th>\n",
       "      <th>TotalSamples</th>\n",
       "      <th>Negative</th>\n",
       "      <th>Positive</th>\n",
       "    </tr>\n",
       "  </thead>\n",
       "  <tbody>\n",
       "    <tr>\n",
       "      <td>0</td>\n",
       "      <td>17/04/2020</td>\n",
       "      <td>Andaman and Nicobar Islands</td>\n",
       "      <td>1403</td>\n",
       "      <td>1210</td>\n",
       "      <td>12.0</td>\n",
       "    </tr>\n",
       "    <tr>\n",
       "      <td>1</td>\n",
       "      <td>24/04/2020</td>\n",
       "      <td>Andaman and Nicobar Islands</td>\n",
       "      <td>2679</td>\n",
       "      <td>NaN</td>\n",
       "      <td>27.0</td>\n",
       "    </tr>\n",
       "    <tr>\n",
       "      <td>2</td>\n",
       "      <td>27/04/2020</td>\n",
       "      <td>Andaman and Nicobar Islands</td>\n",
       "      <td>2848</td>\n",
       "      <td>NaN</td>\n",
       "      <td>33.0</td>\n",
       "    </tr>\n",
       "    <tr>\n",
       "      <td>3</td>\n",
       "      <td>01/05/2020</td>\n",
       "      <td>Andaman and Nicobar Islands</td>\n",
       "      <td>3754</td>\n",
       "      <td>NaN</td>\n",
       "      <td>33.0</td>\n",
       "    </tr>\n",
       "    <tr>\n",
       "      <td>4</td>\n",
       "      <td>16/05/2020</td>\n",
       "      <td>Andaman and Nicobar Islands</td>\n",
       "      <td>6677</td>\n",
       "      <td>NaN</td>\n",
       "      <td>33.0</td>\n",
       "    </tr>\n",
       "  </tbody>\n",
       "</table>\n",
       "</div>"
      ],
      "text/plain": [
       "         Date                        State  TotalSamples Negative  Positive\n",
       "0  17/04/2020  Andaman and Nicobar Islands          1403     1210      12.0\n",
       "1  24/04/2020  Andaman and Nicobar Islands          2679      NaN      27.0\n",
       "2  27/04/2020  Andaman and Nicobar Islands          2848      NaN      33.0\n",
       "3  01/05/2020  Andaman and Nicobar Islands          3754      NaN      33.0\n",
       "4  16/05/2020  Andaman and Nicobar Islands          6677      NaN      33.0"
      ]
     },
     "execution_count": 3,
     "metadata": {},
     "output_type": "execute_result"
    }
   ],
   "source": [
    "# Reading data related to testing state wise\n",
    "df_State_Wise_Testing = pd.read_csv(\"StatewiseTestingDetails.csv\")  \n",
    "df_State_Wise_Testing.head()"
   ]
  },
  {
   "cell_type": "markdown",
   "metadata": {},
   "source": [
    "Data Set related to state wise population"
   ]
  },
  {
   "cell_type": "code",
   "execution_count": 4,
   "metadata": {},
   "outputs": [
    {
     "data": {
      "text/html": [
       "<div>\n",
       "<style scoped>\n",
       "    .dataframe tbody tr th:only-of-type {\n",
       "        vertical-align: middle;\n",
       "    }\n",
       "\n",
       "    .dataframe tbody tr th {\n",
       "        vertical-align: top;\n",
       "    }\n",
       "\n",
       "    .dataframe thead th {\n",
       "        text-align: right;\n",
       "    }\n",
       "</style>\n",
       "<table border=\"1\" class=\"dataframe\">\n",
       "  <thead>\n",
       "    <tr style=\"text-align: right;\">\n",
       "      <th></th>\n",
       "      <th>S.No</th>\n",
       "      <th>State</th>\n",
       "      <th>Population</th>\n",
       "      <th>Rural_Population</th>\n",
       "      <th>Urban_Population</th>\n",
       "      <th>Area</th>\n",
       "      <th>Density</th>\n",
       "      <th>Gender_Ratio</th>\n",
       "    </tr>\n",
       "  </thead>\n",
       "  <tbody>\n",
       "    <tr>\n",
       "      <td>0</td>\n",
       "      <td>1</td>\n",
       "      <td>Uttar Pradesh</td>\n",
       "      <td>199812341</td>\n",
       "      <td>155317278</td>\n",
       "      <td>44495063</td>\n",
       "      <td>240,928 km2 (93,023 sq mi)</td>\n",
       "      <td>828.0</td>\n",
       "      <td>912</td>\n",
       "    </tr>\n",
       "    <tr>\n",
       "      <td>1</td>\n",
       "      <td>2</td>\n",
       "      <td>Maharashtra</td>\n",
       "      <td>112374333</td>\n",
       "      <td>61556074</td>\n",
       "      <td>50818259</td>\n",
       "      <td>307,713 km2 (118,809 sq mi)</td>\n",
       "      <td>365.0</td>\n",
       "      <td>929</td>\n",
       "    </tr>\n",
       "    <tr>\n",
       "      <td>2</td>\n",
       "      <td>3</td>\n",
       "      <td>Bihar</td>\n",
       "      <td>104099452</td>\n",
       "      <td>92341436</td>\n",
       "      <td>11758016</td>\n",
       "      <td>94,163 km2 (36,357 sq mi)</td>\n",
       "      <td>1102.0</td>\n",
       "      <td>918</td>\n",
       "    </tr>\n",
       "    <tr>\n",
       "      <td>3</td>\n",
       "      <td>4</td>\n",
       "      <td>West Bengal</td>\n",
       "      <td>91276115</td>\n",
       "      <td>62183113</td>\n",
       "      <td>29093002</td>\n",
       "      <td>88,752 km2 (34,267 sq mi)</td>\n",
       "      <td>1029.0</td>\n",
       "      <td>953</td>\n",
       "    </tr>\n",
       "    <tr>\n",
       "      <td>4</td>\n",
       "      <td>5</td>\n",
       "      <td>Madhya Pradesh</td>\n",
       "      <td>72626809</td>\n",
       "      <td>52557404</td>\n",
       "      <td>20069405</td>\n",
       "      <td>308,245 km2 (119,014 sq mi)</td>\n",
       "      <td>236.0</td>\n",
       "      <td>931</td>\n",
       "    </tr>\n",
       "  </tbody>\n",
       "</table>\n",
       "</div>"
      ],
      "text/plain": [
       "   S.No           State  Population  Rural_Population  Urban_Population  \\\n",
       "0     1   Uttar Pradesh   199812341         155317278          44495063   \n",
       "1     2     Maharashtra   112374333          61556074          50818259   \n",
       "2     3           Bihar   104099452          92341436          11758016   \n",
       "3     4     West Bengal    91276115          62183113          29093002   \n",
       "4     5  Madhya Pradesh    72626809          52557404          20069405   \n",
       "\n",
       "                          Area  Density  Gender_Ratio  \n",
       "0   240,928 km2 (93,023 sq mi)    828.0           912  \n",
       "1  307,713 km2 (118,809 sq mi)    365.0           929  \n",
       "2    94,163 km2 (36,357 sq mi)   1102.0           918  \n",
       "3    88,752 km2 (34,267 sq mi)   1029.0           953  \n",
       "4  308,245 km2 (119,014 sq mi)    236.0           931  "
      ]
     },
     "execution_count": 4,
     "metadata": {},
     "output_type": "execute_result"
    }
   ],
   "source": [
    "# Reading data related to Population state wise\n",
    "df_State_Wise_Population = pd.read_csv(\"population_india_census2011.csv\")  \n",
    "df_State_Wise_Population.head()"
   ]
  },
  {
   "cell_type": "markdown",
   "metadata": {},
   "source": [
    "# Lets create one combined data set from above data sets"
   ]
  },
  {
   "cell_type": "markdown",
   "metadata": {},
   "source": [
    "Lets do groupby on State related to State wise testing data set"
   ]
  },
  {
   "cell_type": "code",
   "execution_count": 5,
   "metadata": {},
   "outputs": [
    {
     "data": {
      "text/html": [
       "<div>\n",
       "<style scoped>\n",
       "    .dataframe tbody tr th:only-of-type {\n",
       "        vertical-align: middle;\n",
       "    }\n",
       "\n",
       "    .dataframe tbody tr th {\n",
       "        vertical-align: top;\n",
       "    }\n",
       "\n",
       "    .dataframe thead th {\n",
       "        text-align: right;\n",
       "    }\n",
       "</style>\n",
       "<table border=\"1\" class=\"dataframe\">\n",
       "  <thead>\n",
       "    <tr style=\"text-align: right;\">\n",
       "      <th></th>\n",
       "      <th>TotalSamples</th>\n",
       "      <th>Positive</th>\n",
       "    </tr>\n",
       "    <tr>\n",
       "      <th>State</th>\n",
       "      <th></th>\n",
       "      <th></th>\n",
       "    </tr>\n",
       "  </thead>\n",
       "  <tbody>\n",
       "    <tr>\n",
       "      <td>Andaman and Nicobar Islands</td>\n",
       "      <td>3379858</td>\n",
       "      <td>178600.0</td>\n",
       "    </tr>\n",
       "    <tr>\n",
       "      <td>Andhra Pradesh</td>\n",
       "      <td>298472635</td>\n",
       "      <td>3859260.0</td>\n",
       "    </tr>\n",
       "    <tr>\n",
       "      <td>Arunachal Pradesh</td>\n",
       "      <td>12116489</td>\n",
       "      <td>51245.0</td>\n",
       "    </tr>\n",
       "    <tr>\n",
       "      <td>Assam</td>\n",
       "      <td>161861746</td>\n",
       "      <td>2065991.0</td>\n",
       "    </tr>\n",
       "    <tr>\n",
       "      <td>Bihar</td>\n",
       "      <td>228083694</td>\n",
       "      <td>1859345.0</td>\n",
       "    </tr>\n",
       "  </tbody>\n",
       "</table>\n",
       "</div>"
      ],
      "text/plain": [
       "                             TotalSamples   Positive\n",
       "State                                               \n",
       "Andaman and Nicobar Islands       3379858   178600.0\n",
       "Andhra Pradesh                  298472635  3859260.0\n",
       "Arunachal Pradesh                12116489    51245.0\n",
       "Assam                           161861746  2065991.0\n",
       "Bihar                           228083694  1859345.0"
      ]
     },
     "execution_count": 5,
     "metadata": {},
     "output_type": "execute_result"
    }
   ],
   "source": [
    "df_State_Wise_Testing = df_State_Wise_Testing.groupby('State').sum() #Group by state \n",
    "df_State_Wise_Testing.head()"
   ]
  },
  {
   "cell_type": "markdown",
   "metadata": {},
   "source": [
    "Above data we can see stat wise TotalSamples tested and confirmed Positve cases"
   ]
  },
  {
   "cell_type": "markdown",
   "metadata": {},
   "source": [
    "Let's do group by on State related to state wise population data set"
   ]
  },
  {
   "cell_type": "code",
   "execution_count": 6,
   "metadata": {},
   "outputs": [
    {
     "data": {
      "text/html": [
       "<div>\n",
       "<style scoped>\n",
       "    .dataframe tbody tr th:only-of-type {\n",
       "        vertical-align: middle;\n",
       "    }\n",
       "\n",
       "    .dataframe tbody tr th {\n",
       "        vertical-align: top;\n",
       "    }\n",
       "\n",
       "    .dataframe thead th {\n",
       "        text-align: right;\n",
       "    }\n",
       "</style>\n",
       "<table border=\"1\" class=\"dataframe\">\n",
       "  <thead>\n",
       "    <tr style=\"text-align: right;\">\n",
       "      <th></th>\n",
       "      <th>S.No</th>\n",
       "      <th>Population</th>\n",
       "      <th>Rural_Population</th>\n",
       "      <th>Urban_Population</th>\n",
       "      <th>Density</th>\n",
       "      <th>Gender_Ratio</th>\n",
       "    </tr>\n",
       "    <tr>\n",
       "      <th>State</th>\n",
       "      <th></th>\n",
       "      <th></th>\n",
       "      <th></th>\n",
       "      <th></th>\n",
       "      <th></th>\n",
       "      <th></th>\n",
       "    </tr>\n",
       "  </thead>\n",
       "  <tbody>\n",
       "    <tr>\n",
       "      <td>Andaman and Nicobar Islands</td>\n",
       "      <td>34</td>\n",
       "      <td>380581</td>\n",
       "      <td>237093</td>\n",
       "      <td>143488</td>\n",
       "      <td>46.0</td>\n",
       "      <td>876</td>\n",
       "    </tr>\n",
       "    <tr>\n",
       "      <td>Andhra Pradesh</td>\n",
       "      <td>10</td>\n",
       "      <td>49577103</td>\n",
       "      <td>34966693</td>\n",
       "      <td>14610410</td>\n",
       "      <td>303.0</td>\n",
       "      <td>993</td>\n",
       "    </tr>\n",
       "    <tr>\n",
       "      <td>Arunachal Pradesh</td>\n",
       "      <td>26</td>\n",
       "      <td>1383727</td>\n",
       "      <td>1066358</td>\n",
       "      <td>317369</td>\n",
       "      <td>17.0</td>\n",
       "      <td>938</td>\n",
       "    </tr>\n",
       "    <tr>\n",
       "      <td>Assam</td>\n",
       "      <td>15</td>\n",
       "      <td>31205576</td>\n",
       "      <td>26807034</td>\n",
       "      <td>4398542</td>\n",
       "      <td>397.0</td>\n",
       "      <td>954</td>\n",
       "    </tr>\n",
       "    <tr>\n",
       "      <td>Bihar</td>\n",
       "      <td>3</td>\n",
       "      <td>104099452</td>\n",
       "      <td>92341436</td>\n",
       "      <td>11758016</td>\n",
       "      <td>1102.0</td>\n",
       "      <td>918</td>\n",
       "    </tr>\n",
       "  </tbody>\n",
       "</table>\n",
       "</div>"
      ],
      "text/plain": [
       "                             S.No  Population  Rural_Population  \\\n",
       "State                                                             \n",
       "Andaman and Nicobar Islands    34      380581            237093   \n",
       "Andhra Pradesh                 10    49577103          34966693   \n",
       "Arunachal Pradesh              26     1383727           1066358   \n",
       "Assam                          15    31205576          26807034   \n",
       "Bihar                           3   104099452          92341436   \n",
       "\n",
       "                             Urban_Population  Density  Gender_Ratio  \n",
       "State                                                                 \n",
       "Andaman and Nicobar Islands            143488     46.0           876  \n",
       "Andhra Pradesh                       14610410    303.0           993  \n",
       "Arunachal Pradesh                      317369     17.0           938  \n",
       "Assam                                 4398542    397.0           954  \n",
       "Bihar                                11758016   1102.0           918  "
      ]
     },
     "execution_count": 6,
     "metadata": {},
     "output_type": "execute_result"
    }
   ],
   "source": [
    "df_State_Wise_Population = df_State_Wise_Population.groupby('State').sum() #Group by state \n",
    "df_State_Wise_Population.head()"
   ]
  },
  {
   "cell_type": "markdown",
   "metadata": {},
   "source": [
    "Here we can see state wise details related to population and Density"
   ]
  },
  {
   "cell_type": "code",
   "execution_count": 7,
   "metadata": {},
   "outputs": [
    {
     "data": {
      "text/html": [
       "<div>\n",
       "<style scoped>\n",
       "    .dataframe tbody tr th:only-of-type {\n",
       "        vertical-align: middle;\n",
       "    }\n",
       "\n",
       "    .dataframe tbody tr th {\n",
       "        vertical-align: top;\n",
       "    }\n",
       "\n",
       "    .dataframe thead th {\n",
       "        text-align: right;\n",
       "    }\n",
       "</style>\n",
       "<table border=\"1\" class=\"dataframe\">\n",
       "  <thead>\n",
       "    <tr style=\"text-align: right;\">\n",
       "      <th></th>\n",
       "      <th>Sno</th>\n",
       "      <th>Cured</th>\n",
       "      <th>Deaths</th>\n",
       "      <th>Confirmed</th>\n",
       "    </tr>\n",
       "    <tr>\n",
       "      <th>State</th>\n",
       "      <th></th>\n",
       "      <th></th>\n",
       "      <th></th>\n",
       "      <th></th>\n",
       "    </tr>\n",
       "  </thead>\n",
       "  <tbody>\n",
       "    <tr>\n",
       "      <td>Andaman and Nicobar Islands</td>\n",
       "      <td>712793</td>\n",
       "      <td>166515</td>\n",
       "      <td>2701</td>\n",
       "      <td>206048</td>\n",
       "    </tr>\n",
       "    <tr>\n",
       "      <td>Andhra Pradesh</td>\n",
       "      <td>715952</td>\n",
       "      <td>25801839</td>\n",
       "      <td>292587</td>\n",
       "      <td>32689980</td>\n",
       "    </tr>\n",
       "    <tr>\n",
       "      <td>Arunachal Pradesh</td>\n",
       "      <td>709460</td>\n",
       "      <td>257632</td>\n",
       "      <td>666</td>\n",
       "      <td>375408</td>\n",
       "    </tr>\n",
       "    <tr>\n",
       "      <td>Assam</td>\n",
       "      <td>710741</td>\n",
       "      <td>6719843</td>\n",
       "      <td>27255</td>\n",
       "      <td>8684022</td>\n",
       "    </tr>\n",
       "    <tr>\n",
       "      <td>Bihar</td>\n",
       "      <td>714772</td>\n",
       "      <td>8427148</td>\n",
       "      <td>51043</td>\n",
       "      <td>10083708</td>\n",
       "    </tr>\n",
       "  </tbody>\n",
       "</table>\n",
       "</div>"
      ],
      "text/plain": [
       "                                Sno     Cured  Deaths  Confirmed\n",
       "State                                                           \n",
       "Andaman and Nicobar Islands  712793    166515    2701     206048\n",
       "Andhra Pradesh               715952  25801839  292587   32689980\n",
       "Arunachal Pradesh            709460    257632     666     375408\n",
       "Assam                        710741   6719843   27255    8684022\n",
       "Bihar                        714772   8427148   51043   10083708"
      ]
     },
     "execution_count": 7,
     "metadata": {},
     "output_type": "execute_result"
    }
   ],
   "source": [
    "df_Day_Wise_Cases = df_Day_Wise_Cases.groupby(\"State\").sum()\n",
    "df_Day_Wise_Cases.head()"
   ]
  },
  {
   "cell_type": "markdown",
   "metadata": {},
   "source": [
    "From above data set we can see cases state wise"
   ]
  },
  {
   "cell_type": "markdown",
   "metadata": {},
   "source": [
    "Till now we did group by on state on different data sets"
   ]
  },
  {
   "cell_type": "markdown",
   "metadata": {},
   "source": [
    "Now combine all these data sets to single data set"
   ]
  },
  {
   "cell_type": "code",
   "execution_count": 8,
   "metadata": {},
   "outputs": [
    {
     "data": {
      "text/html": [
       "<div>\n",
       "<style scoped>\n",
       "    .dataframe tbody tr th:only-of-type {\n",
       "        vertical-align: middle;\n",
       "    }\n",
       "\n",
       "    .dataframe tbody tr th {\n",
       "        vertical-align: top;\n",
       "    }\n",
       "\n",
       "    .dataframe thead th {\n",
       "        text-align: right;\n",
       "    }\n",
       "</style>\n",
       "<table border=\"1\" class=\"dataframe\">\n",
       "  <thead>\n",
       "    <tr style=\"text-align: right;\">\n",
       "      <th></th>\n",
       "      <th>Sno</th>\n",
       "      <th>Cured</th>\n",
       "      <th>Deaths</th>\n",
       "      <th>Confirmed</th>\n",
       "      <th>TotalSamples</th>\n",
       "      <th>Positive</th>\n",
       "      <th>S.No</th>\n",
       "      <th>Population</th>\n",
       "      <th>Rural_Population</th>\n",
       "      <th>Urban_Population</th>\n",
       "      <th>Density</th>\n",
       "      <th>Gender_Ratio</th>\n",
       "    </tr>\n",
       "    <tr>\n",
       "      <th>State</th>\n",
       "      <th></th>\n",
       "      <th></th>\n",
       "      <th></th>\n",
       "      <th></th>\n",
       "      <th></th>\n",
       "      <th></th>\n",
       "      <th></th>\n",
       "      <th></th>\n",
       "      <th></th>\n",
       "      <th></th>\n",
       "      <th></th>\n",
       "      <th></th>\n",
       "    </tr>\n",
       "  </thead>\n",
       "  <tbody>\n",
       "    <tr>\n",
       "      <td>Andaman and Nicobar Islands</td>\n",
       "      <td>712793</td>\n",
       "      <td>166515</td>\n",
       "      <td>2701</td>\n",
       "      <td>206048</td>\n",
       "      <td>3379858</td>\n",
       "      <td>178600.0</td>\n",
       "      <td>34</td>\n",
       "      <td>380581</td>\n",
       "      <td>237093</td>\n",
       "      <td>143488</td>\n",
       "      <td>46.0</td>\n",
       "      <td>876</td>\n",
       "    </tr>\n",
       "    <tr>\n",
       "      <td>Andhra Pradesh</td>\n",
       "      <td>715952</td>\n",
       "      <td>25801839</td>\n",
       "      <td>292587</td>\n",
       "      <td>32689980</td>\n",
       "      <td>298472635</td>\n",
       "      <td>3859260.0</td>\n",
       "      <td>10</td>\n",
       "      <td>49577103</td>\n",
       "      <td>34966693</td>\n",
       "      <td>14610410</td>\n",
       "      <td>303.0</td>\n",
       "      <td>993</td>\n",
       "    </tr>\n",
       "    <tr>\n",
       "      <td>Arunachal Pradesh</td>\n",
       "      <td>709460</td>\n",
       "      <td>257632</td>\n",
       "      <td>666</td>\n",
       "      <td>375408</td>\n",
       "      <td>12116489</td>\n",
       "      <td>51245.0</td>\n",
       "      <td>26</td>\n",
       "      <td>1383727</td>\n",
       "      <td>1066358</td>\n",
       "      <td>317369</td>\n",
       "      <td>17.0</td>\n",
       "      <td>938</td>\n",
       "    </tr>\n",
       "    <tr>\n",
       "      <td>Assam</td>\n",
       "      <td>710741</td>\n",
       "      <td>6719843</td>\n",
       "      <td>27255</td>\n",
       "      <td>8684022</td>\n",
       "      <td>161861746</td>\n",
       "      <td>2065991.0</td>\n",
       "      <td>15</td>\n",
       "      <td>31205576</td>\n",
       "      <td>26807034</td>\n",
       "      <td>4398542</td>\n",
       "      <td>397.0</td>\n",
       "      <td>954</td>\n",
       "    </tr>\n",
       "    <tr>\n",
       "      <td>Bihar</td>\n",
       "      <td>714772</td>\n",
       "      <td>8427148</td>\n",
       "      <td>51043</td>\n",
       "      <td>10083708</td>\n",
       "      <td>228083694</td>\n",
       "      <td>1859345.0</td>\n",
       "      <td>3</td>\n",
       "      <td>104099452</td>\n",
       "      <td>92341436</td>\n",
       "      <td>11758016</td>\n",
       "      <td>1102.0</td>\n",
       "      <td>918</td>\n",
       "    </tr>\n",
       "  </tbody>\n",
       "</table>\n",
       "</div>"
      ],
      "text/plain": [
       "                                Sno     Cured  Deaths  Confirmed  \\\n",
       "State                                                              \n",
       "Andaman and Nicobar Islands  712793    166515    2701     206048   \n",
       "Andhra Pradesh               715952  25801839  292587   32689980   \n",
       "Arunachal Pradesh            709460    257632     666     375408   \n",
       "Assam                        710741   6719843   27255    8684022   \n",
       "Bihar                        714772   8427148   51043   10083708   \n",
       "\n",
       "                             TotalSamples   Positive  S.No  Population  \\\n",
       "State                                                                    \n",
       "Andaman and Nicobar Islands       3379858   178600.0    34      380581   \n",
       "Andhra Pradesh                  298472635  3859260.0    10    49577103   \n",
       "Arunachal Pradesh                12116489    51245.0    26     1383727   \n",
       "Assam                           161861746  2065991.0    15    31205576   \n",
       "Bihar                           228083694  1859345.0     3   104099452   \n",
       "\n",
       "                             Rural_Population  Urban_Population  Density  \\\n",
       "State                                                                      \n",
       "Andaman and Nicobar Islands            237093            143488     46.0   \n",
       "Andhra Pradesh                       34966693          14610410    303.0   \n",
       "Arunachal Pradesh                     1066358            317369     17.0   \n",
       "Assam                                26807034           4398542    397.0   \n",
       "Bihar                                92341436          11758016   1102.0   \n",
       "\n",
       "                             Gender_Ratio  \n",
       "State                                      \n",
       "Andaman and Nicobar Islands           876  \n",
       "Andhra Pradesh                        993  \n",
       "Arunachal Pradesh                     938  \n",
       "Assam                                 954  \n",
       "Bihar                                 918  "
      ]
     },
     "execution_count": 8,
     "metadata": {},
     "output_type": "execute_result"
    }
   ],
   "source": [
    "#Here we are using concat function with inner join\n",
    "df = pd.concat([df_Day_Wise_Cases, df_State_Wise_Testing,df_State_Wise_Population],axis=1, join='inner') \n",
    "df.head()"
   ]
  },
  {
   "cell_type": "markdown",
   "metadata": {},
   "source": [
    "New we have combited data set but we can see un-necessery column like Sno, S.No lets remove it"
   ]
  },
  {
   "cell_type": "code",
   "execution_count": 9,
   "metadata": {},
   "outputs": [
    {
     "data": {
      "text/html": [
       "<div>\n",
       "<style scoped>\n",
       "    .dataframe tbody tr th:only-of-type {\n",
       "        vertical-align: middle;\n",
       "    }\n",
       "\n",
       "    .dataframe tbody tr th {\n",
       "        vertical-align: top;\n",
       "    }\n",
       "\n",
       "    .dataframe thead th {\n",
       "        text-align: right;\n",
       "    }\n",
       "</style>\n",
       "<table border=\"1\" class=\"dataframe\">\n",
       "  <thead>\n",
       "    <tr style=\"text-align: right;\">\n",
       "      <th></th>\n",
       "      <th>Cured</th>\n",
       "      <th>Deaths</th>\n",
       "      <th>Confirmed</th>\n",
       "      <th>TotalSamples</th>\n",
       "      <th>Positive</th>\n",
       "      <th>Population</th>\n",
       "      <th>Rural_Population</th>\n",
       "      <th>Urban_Population</th>\n",
       "      <th>Density</th>\n",
       "      <th>Gender_Ratio</th>\n",
       "    </tr>\n",
       "    <tr>\n",
       "      <th>State</th>\n",
       "      <th></th>\n",
       "      <th></th>\n",
       "      <th></th>\n",
       "      <th></th>\n",
       "      <th></th>\n",
       "      <th></th>\n",
       "      <th></th>\n",
       "      <th></th>\n",
       "      <th></th>\n",
       "      <th></th>\n",
       "    </tr>\n",
       "  </thead>\n",
       "  <tbody>\n",
       "    <tr>\n",
       "      <td>Andaman and Nicobar Islands</td>\n",
       "      <td>166515</td>\n",
       "      <td>2701</td>\n",
       "      <td>206048</td>\n",
       "      <td>3379858</td>\n",
       "      <td>178600.0</td>\n",
       "      <td>380581</td>\n",
       "      <td>237093</td>\n",
       "      <td>143488</td>\n",
       "      <td>46.0</td>\n",
       "      <td>876</td>\n",
       "    </tr>\n",
       "    <tr>\n",
       "      <td>Andhra Pradesh</td>\n",
       "      <td>25801839</td>\n",
       "      <td>292587</td>\n",
       "      <td>32689980</td>\n",
       "      <td>298472635</td>\n",
       "      <td>3859260.0</td>\n",
       "      <td>49577103</td>\n",
       "      <td>34966693</td>\n",
       "      <td>14610410</td>\n",
       "      <td>303.0</td>\n",
       "      <td>993</td>\n",
       "    </tr>\n",
       "    <tr>\n",
       "      <td>Arunachal Pradesh</td>\n",
       "      <td>257632</td>\n",
       "      <td>666</td>\n",
       "      <td>375408</td>\n",
       "      <td>12116489</td>\n",
       "      <td>51245.0</td>\n",
       "      <td>1383727</td>\n",
       "      <td>1066358</td>\n",
       "      <td>317369</td>\n",
       "      <td>17.0</td>\n",
       "      <td>938</td>\n",
       "    </tr>\n",
       "    <tr>\n",
       "      <td>Assam</td>\n",
       "      <td>6719843</td>\n",
       "      <td>27255</td>\n",
       "      <td>8684022</td>\n",
       "      <td>161861746</td>\n",
       "      <td>2065991.0</td>\n",
       "      <td>31205576</td>\n",
       "      <td>26807034</td>\n",
       "      <td>4398542</td>\n",
       "      <td>397.0</td>\n",
       "      <td>954</td>\n",
       "    </tr>\n",
       "    <tr>\n",
       "      <td>Bihar</td>\n",
       "      <td>8427148</td>\n",
       "      <td>51043</td>\n",
       "      <td>10083708</td>\n",
       "      <td>228083694</td>\n",
       "      <td>1859345.0</td>\n",
       "      <td>104099452</td>\n",
       "      <td>92341436</td>\n",
       "      <td>11758016</td>\n",
       "      <td>1102.0</td>\n",
       "      <td>918</td>\n",
       "    </tr>\n",
       "  </tbody>\n",
       "</table>\n",
       "</div>"
      ],
      "text/plain": [
       "                                Cured  Deaths  Confirmed  TotalSamples  \\\n",
       "State                                                                    \n",
       "Andaman and Nicobar Islands    166515    2701     206048       3379858   \n",
       "Andhra Pradesh               25801839  292587   32689980     298472635   \n",
       "Arunachal Pradesh              257632     666     375408      12116489   \n",
       "Assam                         6719843   27255    8684022     161861746   \n",
       "Bihar                         8427148   51043   10083708     228083694   \n",
       "\n",
       "                              Positive  Population  Rural_Population  \\\n",
       "State                                                                  \n",
       "Andaman and Nicobar Islands   178600.0      380581            237093   \n",
       "Andhra Pradesh               3859260.0    49577103          34966693   \n",
       "Arunachal Pradesh              51245.0     1383727           1066358   \n",
       "Assam                        2065991.0    31205576          26807034   \n",
       "Bihar                        1859345.0   104099452          92341436   \n",
       "\n",
       "                             Urban_Population  Density  Gender_Ratio  \n",
       "State                                                                 \n",
       "Andaman and Nicobar Islands            143488     46.0           876  \n",
       "Andhra Pradesh                       14610410    303.0           993  \n",
       "Arunachal Pradesh                      317369     17.0           938  \n",
       "Assam                                 4398542    397.0           954  \n",
       "Bihar                                11758016   1102.0           918  "
      ]
     },
     "execution_count": 9,
     "metadata": {},
     "output_type": "execute_result"
    }
   ],
   "source": [
    "# To remove uncessery columns\n",
    "df = df.drop(columns = ['Sno','S.No'], axis = 1) \n",
    "df.head()"
   ]
  },
  {
   "cell_type": "markdown",
   "metadata": {},
   "source": [
    "Lets Create new column called Active we can get it by using Confirmed, Cured , and Deaths values"
   ]
  },
  {
   "cell_type": "code",
   "execution_count": 10,
   "metadata": {},
   "outputs": [
    {
     "data": {
      "text/html": [
       "<div>\n",
       "<style scoped>\n",
       "    .dataframe tbody tr th:only-of-type {\n",
       "        vertical-align: middle;\n",
       "    }\n",
       "\n",
       "    .dataframe tbody tr th {\n",
       "        vertical-align: top;\n",
       "    }\n",
       "\n",
       "    .dataframe thead th {\n",
       "        text-align: right;\n",
       "    }\n",
       "</style>\n",
       "<table border=\"1\" class=\"dataframe\">\n",
       "  <thead>\n",
       "    <tr style=\"text-align: right;\">\n",
       "      <th></th>\n",
       "      <th>Cured</th>\n",
       "      <th>Deaths</th>\n",
       "      <th>Confirmed</th>\n",
       "      <th>TotalSamples</th>\n",
       "      <th>Positive</th>\n",
       "      <th>Population</th>\n",
       "      <th>Rural_Population</th>\n",
       "      <th>Urban_Population</th>\n",
       "      <th>Density</th>\n",
       "      <th>Gender_Ratio</th>\n",
       "      <th>Active</th>\n",
       "    </tr>\n",
       "    <tr>\n",
       "      <th>State</th>\n",
       "      <th></th>\n",
       "      <th></th>\n",
       "      <th></th>\n",
       "      <th></th>\n",
       "      <th></th>\n",
       "      <th></th>\n",
       "      <th></th>\n",
       "      <th></th>\n",
       "      <th></th>\n",
       "      <th></th>\n",
       "      <th></th>\n",
       "    </tr>\n",
       "  </thead>\n",
       "  <tbody>\n",
       "    <tr>\n",
       "      <td>Andaman and Nicobar Islands</td>\n",
       "      <td>166515</td>\n",
       "      <td>2701</td>\n",
       "      <td>206048</td>\n",
       "      <td>3379858</td>\n",
       "      <td>178600.0</td>\n",
       "      <td>380581</td>\n",
       "      <td>237093</td>\n",
       "      <td>143488</td>\n",
       "      <td>46.0</td>\n",
       "      <td>876</td>\n",
       "      <td>36832</td>\n",
       "    </tr>\n",
       "    <tr>\n",
       "      <td>Andhra Pradesh</td>\n",
       "      <td>25801839</td>\n",
       "      <td>292587</td>\n",
       "      <td>32689980</td>\n",
       "      <td>298472635</td>\n",
       "      <td>3859260.0</td>\n",
       "      <td>49577103</td>\n",
       "      <td>34966693</td>\n",
       "      <td>14610410</td>\n",
       "      <td>303.0</td>\n",
       "      <td>993</td>\n",
       "      <td>6595554</td>\n",
       "    </tr>\n",
       "    <tr>\n",
       "      <td>Arunachal Pradesh</td>\n",
       "      <td>257632</td>\n",
       "      <td>666</td>\n",
       "      <td>375408</td>\n",
       "      <td>12116489</td>\n",
       "      <td>51245.0</td>\n",
       "      <td>1383727</td>\n",
       "      <td>1066358</td>\n",
       "      <td>317369</td>\n",
       "      <td>17.0</td>\n",
       "      <td>938</td>\n",
       "      <td>117110</td>\n",
       "    </tr>\n",
       "    <tr>\n",
       "      <td>Assam</td>\n",
       "      <td>6719843</td>\n",
       "      <td>27255</td>\n",
       "      <td>8684022</td>\n",
       "      <td>161861746</td>\n",
       "      <td>2065991.0</td>\n",
       "      <td>31205576</td>\n",
       "      <td>26807034</td>\n",
       "      <td>4398542</td>\n",
       "      <td>397.0</td>\n",
       "      <td>954</td>\n",
       "      <td>1936924</td>\n",
       "    </tr>\n",
       "    <tr>\n",
       "      <td>Bihar</td>\n",
       "      <td>8427148</td>\n",
       "      <td>51043</td>\n",
       "      <td>10083708</td>\n",
       "      <td>228083694</td>\n",
       "      <td>1859345.0</td>\n",
       "      <td>104099452</td>\n",
       "      <td>92341436</td>\n",
       "      <td>11758016</td>\n",
       "      <td>1102.0</td>\n",
       "      <td>918</td>\n",
       "      <td>1605517</td>\n",
       "    </tr>\n",
       "  </tbody>\n",
       "</table>\n",
       "</div>"
      ],
      "text/plain": [
       "                                Cured  Deaths  Confirmed  TotalSamples  \\\n",
       "State                                                                    \n",
       "Andaman and Nicobar Islands    166515    2701     206048       3379858   \n",
       "Andhra Pradesh               25801839  292587   32689980     298472635   \n",
       "Arunachal Pradesh              257632     666     375408      12116489   \n",
       "Assam                         6719843   27255    8684022     161861746   \n",
       "Bihar                         8427148   51043   10083708     228083694   \n",
       "\n",
       "                              Positive  Population  Rural_Population  \\\n",
       "State                                                                  \n",
       "Andaman and Nicobar Islands   178600.0      380581            237093   \n",
       "Andhra Pradesh               3859260.0    49577103          34966693   \n",
       "Arunachal Pradesh              51245.0     1383727           1066358   \n",
       "Assam                        2065991.0    31205576          26807034   \n",
       "Bihar                        1859345.0   104099452          92341436   \n",
       "\n",
       "                             Urban_Population  Density  Gender_Ratio   Active  \n",
       "State                                                                          \n",
       "Andaman and Nicobar Islands            143488     46.0           876    36832  \n",
       "Andhra Pradesh                       14610410    303.0           993  6595554  \n",
       "Arunachal Pradesh                      317369     17.0           938   117110  \n",
       "Assam                                 4398542    397.0           954  1936924  \n",
       "Bihar                                11758016   1102.0           918  1605517  "
      ]
     },
     "execution_count": 10,
     "metadata": {},
     "output_type": "execute_result"
    }
   ],
   "source": [
    "df['Active'] = df['Confirmed'] - df['Cured'] - df['Deaths']\n",
    "df.head()"
   ]
  },
  {
   "cell_type": "markdown",
   "metadata": {},
   "source": [
    "Let's create scatter plot based on above data"
   ]
  },
  {
   "cell_type": "code",
   "execution_count": 11,
   "metadata": {},
   "outputs": [
    {
     "data": {
      "text/plain": [
       "<matplotlib.collections.PathCollection at 0x7fdfe24032d0>"
      ]
     },
     "execution_count": 11,
     "metadata": {},
     "output_type": "execute_result"
    },
    {
     "data": {
      "image/png": "[encoded data removed]",
      "text/plain": [
       "<Figure size 432x288 with 1 Axes>"
      ]
     },
     "metadata": {
      "needs_background": "light"
     },
     "output_type": "display_data"
    }
   ],
   "source": [
    "\n",
    "#Creating X axis\n",
    "x = df['Deaths']  \n",
    "\n",
    "#Creating Y axis\n",
    "y = df['Density']\n",
    "\n",
    "#Creating Buble size\n",
    "s = np.abs(df.Population)/10000000  # creating for buble size\n",
    "\n",
    "plt.scatter(x,y, cmap='Spectral', s=s*100, alpha= 0.5, edgecolors='none')"
   ]
  },
  {
   "cell_type": "markdown",
   "metadata": {},
   "source": [
    "Which is not looking good all the bubles have same colour and x axis values are not good to see\n",
    "lets Improve our data set more"
   ]
  },
  {
   "cell_type": "markdown",
   "metadata": {},
   "source": [
    "# For each state lets assign unique colour combidation "
   ]
  },
  {
   "cell_type": "markdown",
   "metadata": {},
   "source": [
    "Based on above df(data set) lets create column called colur_dict"
   ]
  },
  {
   "cell_type": "code",
   "execution_count": 12,
   "metadata": {},
   "outputs": [
    {
     "data": {
      "text/plain": [
       "Andaman and Nicobar Islands    (0.2800461361014994, 0.6269896193771626, 0.702...\n",
       "Andhra Pradesh                 (0.9950019223375625, 0.8246059207996924, 0.499...\n",
       "Arunachal Pradesh              (0.944252210688197, 0.9777008842752788, 0.6620...\n",
       "Assam                          (0.2941945405613224, 0.4062283737024224, 0.680...\n",
       "Bihar                          (0.5697808535178779, 0.8272202998846598, 0.644...\n",
       "Name: color_dict, dtype: object"
      ]
     },
     "execution_count": 12,
     "metadata": {},
     "output_type": "execute_result"
    }
   ],
   "source": [
    "#Getting no of rows from data set\n",
    "row_count = len(df.axes[0]) \n",
    "\n",
    "#Creating a series of values\n",
    "np.random.seed(seed=row_count)\n",
    "cmap=plt.cm.get_cmap('Spectral')\n",
    "\n",
    "#Assign each colour combination for each index rows\n",
    "color_dict = pd.Series({k:cmap(np.random.rand()) for k in df.index.unique()})\n",
    "color_dict.name = 'color_dict'\n",
    "\n",
    "color_dict.head()"
   ]
  },
  {
   "cell_type": "code",
   "execution_count": 13,
   "metadata": {},
   "outputs": [
    {
     "data": {
      "text/html": [
       "<div>\n",
       "<style scoped>\n",
       "    .dataframe tbody tr th:only-of-type {\n",
       "        vertical-align: middle;\n",
       "    }\n",
       "\n",
       "    .dataframe tbody tr th {\n",
       "        vertical-align: top;\n",
       "    }\n",
       "\n",
       "    .dataframe thead th {\n",
       "        text-align: right;\n",
       "    }\n",
       "</style>\n",
       "<table border=\"1\" class=\"dataframe\">\n",
       "  <thead>\n",
       "    <tr style=\"text-align: right;\">\n",
       "      <th></th>\n",
       "      <th>Cured</th>\n",
       "      <th>Deaths</th>\n",
       "      <th>Confirmed</th>\n",
       "      <th>TotalSamples</th>\n",
       "      <th>Positive</th>\n",
       "      <th>Population</th>\n",
       "      <th>Rural_Population</th>\n",
       "      <th>Urban_Population</th>\n",
       "      <th>Density</th>\n",
       "      <th>Gender_Ratio</th>\n",
       "      <th>Active</th>\n",
       "      <th>color_dict</th>\n",
       "    </tr>\n",
       "    <tr>\n",
       "      <th>State</th>\n",
       "      <th></th>\n",
       "      <th></th>\n",
       "      <th></th>\n",
       "      <th></th>\n",
       "      <th></th>\n",
       "      <th></th>\n",
       "      <th></th>\n",
       "      <th></th>\n",
       "      <th></th>\n",
       "      <th></th>\n",
       "      <th></th>\n",
       "      <th></th>\n",
       "    </tr>\n",
       "  </thead>\n",
       "  <tbody>\n",
       "    <tr>\n",
       "      <td>Andaman and Nicobar Islands</td>\n",
       "      <td>166515</td>\n",
       "      <td>2701</td>\n",
       "      <td>206048</td>\n",
       "      <td>3379858</td>\n",
       "      <td>178600.0</td>\n",
       "      <td>380581</td>\n",
       "      <td>237093</td>\n",
       "      <td>143488</td>\n",
       "      <td>46.0</td>\n",
       "      <td>876</td>\n",
       "      <td>36832</td>\n",
       "      <td>(0.2800461361014994, 0.6269896193771626, 0.702...</td>\n",
       "    </tr>\n",
       "    <tr>\n",
       "      <td>Andhra Pradesh</td>\n",
       "      <td>25801839</td>\n",
       "      <td>292587</td>\n",
       "      <td>32689980</td>\n",
       "      <td>298472635</td>\n",
       "      <td>3859260.0</td>\n",
       "      <td>49577103</td>\n",
       "      <td>34966693</td>\n",
       "      <td>14610410</td>\n",
       "      <td>303.0</td>\n",
       "      <td>993</td>\n",
       "      <td>6595554</td>\n",
       "      <td>(0.9950019223375625, 0.8246059207996924, 0.499...</td>\n",
       "    </tr>\n",
       "    <tr>\n",
       "      <td>Arunachal Pradesh</td>\n",
       "      <td>257632</td>\n",
       "      <td>666</td>\n",
       "      <td>375408</td>\n",
       "      <td>12116489</td>\n",
       "      <td>51245.0</td>\n",
       "      <td>1383727</td>\n",
       "      <td>1066358</td>\n",
       "      <td>317369</td>\n",
       "      <td>17.0</td>\n",
       "      <td>938</td>\n",
       "      <td>117110</td>\n",
       "      <td>(0.944252210688197, 0.9777008842752788, 0.6620...</td>\n",
       "    </tr>\n",
       "    <tr>\n",
       "      <td>Assam</td>\n",
       "      <td>6719843</td>\n",
       "      <td>27255</td>\n",
       "      <td>8684022</td>\n",
       "      <td>161861746</td>\n",
       "      <td>2065991.0</td>\n",
       "      <td>31205576</td>\n",
       "      <td>26807034</td>\n",
       "      <td>4398542</td>\n",
       "      <td>397.0</td>\n",
       "      <td>954</td>\n",
       "      <td>1936924</td>\n",
       "      <td>(0.2941945405613224, 0.4062283737024224, 0.680...</td>\n",
       "    </tr>\n",
       "    <tr>\n",
       "      <td>Bihar</td>\n",
       "      <td>8427148</td>\n",
       "      <td>51043</td>\n",
       "      <td>10083708</td>\n",
       "      <td>228083694</td>\n",
       "      <td>1859345.0</td>\n",
       "      <td>104099452</td>\n",
       "      <td>92341436</td>\n",
       "      <td>11758016</td>\n",
       "      <td>1102.0</td>\n",
       "      <td>918</td>\n",
       "      <td>1605517</td>\n",
       "      <td>(0.5697808535178779, 0.8272202998846598, 0.644...</td>\n",
       "    </tr>\n",
       "  </tbody>\n",
       "</table>\n",
       "</div>"
      ],
      "text/plain": [
       "                                Cured  Deaths  Confirmed  TotalSamples  \\\n",
       "State                                                                    \n",
       "Andaman and Nicobar Islands    166515    2701     206048       3379858   \n",
       "Andhra Pradesh               25801839  292587   32689980     298472635   \n",
       "Arunachal Pradesh              257632     666     375408      12116489   \n",
       "Assam                         6719843   27255    8684022     161861746   \n",
       "Bihar                         8427148   51043   10083708     228083694   \n",
       "\n",
       "                              Positive  Population  Rural_Population  \\\n",
       "State                                                                  \n",
       "Andaman and Nicobar Islands   178600.0      380581            237093   \n",
       "Andhra Pradesh               3859260.0    49577103          34966693   \n",
       "Arunachal Pradesh              51245.0     1383727           1066358   \n",
       "Assam                        2065991.0    31205576          26807034   \n",
       "Bihar                        1859345.0   104099452          92341436   \n",
       "\n",
       "                             Urban_Population  Density  Gender_Ratio   Active  \\\n",
       "State                                                                           \n",
       "Andaman and Nicobar Islands            143488     46.0           876    36832   \n",
       "Andhra Pradesh                       14610410    303.0           993  6595554   \n",
       "Arunachal Pradesh                      317369     17.0           938   117110   \n",
       "Assam                                 4398542    397.0           954  1936924   \n",
       "Bihar                                11758016   1102.0           918  1605517   \n",
       "\n",
       "                                                                    color_dict  \n",
       "State                                                                           \n",
       "Andaman and Nicobar Islands  (0.2800461361014994, 0.6269896193771626, 0.702...  \n",
       "Andhra Pradesh               (0.9950019223375625, 0.8246059207996924, 0.499...  \n",
       "Arunachal Pradesh            (0.944252210688197, 0.9777008842752788, 0.6620...  \n",
       "Assam                        (0.2941945405613224, 0.4062283737024224, 0.680...  \n",
       "Bihar                        (0.5697808535178779, 0.8272202998846598, 0.644...  "
      ]
     },
     "execution_count": 13,
     "metadata": {},
     "output_type": "execute_result"
    }
   ],
   "source": [
    "#Lets merger above values to data set\n",
    "df = pd.merge(df, color_dict, how = 'left', left_on = df.index, right_index=True)\n",
    "df.head()"
   ]
  },
  {
   "cell_type": "markdown",
   "metadata": {},
   "source": [
    "Here we can see new column called color_dict which has colour values"
   ]
  },
  {
   "cell_type": "markdown",
   "metadata": {},
   "source": [
    "Lets see the plot how looks"
   ]
  },
  {
   "cell_type": "code",
   "execution_count": 14,
   "metadata": {},
   "outputs": [
    {
     "data": {
      "text/plain": [
       "<matplotlib.collections.PathCollection at 0x7fdfe2cc6a50>"
      ]
     },
     "execution_count": 14,
     "metadata": {},
     "output_type": "execute_result"
    },
    {
     "data": {
      "image/png": "[encoded data removed]",
      "text/plain": [
       "<Figure size 432x288 with 1 Axes>"
      ]
     },
     "metadata": {
      "needs_background": "light"
     },
     "output_type": "display_data"
    }
   ],
   "source": [
    "#Sort the values related to x axis\n",
    "df = df.sort_values('Deaths')\n",
    "\n",
    "#Creating X axis\n",
    "Deaths = df['Deaths'] \n",
    "\n",
    "#Creating Y axis\n",
    "Density = df['Density']\n",
    "\n",
    "#Creating Buble size\n",
    "Buble_Size = np.abs(df.Population)/10000000 \n",
    "\n",
    "#Creating colour column\n",
    "colour = df['color_dict']\n",
    "\n",
    "#lets conver Deaths values to lakhs\n",
    "Deaths =[ str(round(Deaths/100000))+'L' for Deaths in df['Deaths'].values ]\n",
    "\n",
    "plt.ylim(-50,1350)\n",
    "\n",
    "#Legend\n",
    "Country_list = list(df.index)\n",
    "bouble_color_list = list(df['color_dict'])\n",
    "a = []\n",
    "for i in range(0,len(df.index)):\n",
    "    a.append(mpatches.Patch(color=bouble_color_list[i],\n",
    "                          alpha = 0.5,\n",
    "                          label = Country_list[i]))\n",
    "\n",
    "plt.legend(handles=a, loc=(1.05,0))\n",
    "\n",
    "plt.scatter(Deaths,Density, cmap='Spectral', s=Buble_Size*100, c = colour, alpha= 0.5, edgecolors='none')\n"
   ]
  },
  {
   "cell_type": "markdown",
   "metadata": {},
   "source": [
    "Here we can see Maharastra have more deaths which compared to other stats but population wise we can see Uttar Pradesh has more population than Maharashtra"
   ]
  },
  {
   "cell_type": "markdown",
   "metadata": {},
   "source": [
    "# Based on above functionality lets create one function to that we can simple pass our required values"
   ]
  },
  {
   "cell_type": "code",
   "execution_count": 15,
   "metadata": {},
   "outputs": [],
   "source": [
    "#Create defination to get the scatter plot for specifed columns as x and y axis\n",
    "def create_scatter_plot(df,X_Axis,Y_Axis,Colour_column,Size):\n",
    "    \n",
    "    '''\n",
    "    INPUT\n",
    "    df - pandas dataframe \n",
    "    X_Axis - X axis column name in df\n",
    "    Y_Axis - Y axis column name in df\n",
    "    Colour_column - colour column name in df\n",
    "    Size - size of the cases i.e., Lakhs,Millions,Crores\n",
    "    \n",
    "    OUTPUT\n",
    "    Scatter plot figure\n",
    "    \n",
    "    Functionality of the procedure:\n",
    "    a)sort the values for x axis\n",
    "    b)Assign the values for x and y\n",
    "    c)Based on size conver the values to M,L,C for size of bubble\n",
    "    d)create legend to the list for each colour of bubble\n",
    "    e)create scatter command to create the plot\n",
    "    \n",
    "    '''\n",
    "    \n",
    "    df_sts = df.sort_values(X_Axis)  #sort values related to x-axes\n",
    "\n",
    "    y = df_sts[Y_Axis]\n",
    "    x = df_sts[X_Axis]\n",
    "    \n",
    "    if Size.lower() == 'millions':\n",
    "        x=[ str(round(x/1000000))+'M' for x in df_sts[X_Axis].values ] #Converting the x values to perticular number\n",
    "    if Size.lower() == 'lakhs':\n",
    "        x=[ str(round(x/100000))+'L' for x in df_sts[X_Axis].values ] #Converting the x values to perticular number\n",
    "    if Size.lower() == \"crores\":\n",
    "        x=[ str(round(x/10000000))+'C' for x in df_sts.Confirmed.values ] #Converting the x values to perticular number\n",
    "    \n",
    "\n",
    "    c = df_sts[Colour_column]\n",
    "    s = np.abs(df_sts.Population)/10000000  # creating for buble size\n",
    "\n",
    "    plt.xlabel(X_Axis+ ' Cases')\n",
    "    plt.ylabel('Population Density per sqkm')\n",
    "    plt.title('State Population Density Analysis')\n",
    "    plt.style.use('seaborn')\n",
    "\n",
    "    plt.ylim(-50,1350)\n",
    "\n",
    "    #Legend\n",
    "    Country_list = list(df_sts.index)\n",
    "    bouble_color_list = list(df_sts[Colour_column])\n",
    "    a = []\n",
    "    for i in range(0,len(df_sts.index)):\n",
    "        a.append(mpatches.Patch(color=bouble_color_list[i],\n",
    "                          alpha = 0.5,\n",
    "                          label = Country_list[i]))\n",
    "\n",
    "    plt.legend(handles=a, loc=(1.05,0))\n",
    "\n",
    "\n",
    "    fig = plt.scatter(x,y, cmap='Spectral', s=s*100, c=c, alpha= 0.5, edgecolors='none')\n",
    "    \n",
    "    return fig"
   ]
  },
  {
   "cell_type": "markdown",
   "metadata": {},
   "source": [
    "Lets pass the required values and see the graphs"
   ]
  },
  {
   "cell_type": "code",
   "execution_count": 16,
   "metadata": {},
   "outputs": [
    {
     "data": {
      "text/plain": [
       "<matplotlib.collections.PathCollection at 0x7fdfe2f2a3d0>"
      ]
     },
     "execution_count": 16,
     "metadata": {},
     "output_type": "execute_result"
    },
    {
     "data": {
      "image/png": "[encoded data removed]",
      "text/plain": [
       "<Figure size 432x288 with 1 Axes>"
      ]
     },
     "metadata": {
      "needs_background": "light"
     },
     "output_type": "display_data"
    }
   ],
   "source": [
    "#Create a plot by passing Deaths as x axis, Density on Y axis \n",
    "create_scatter_plot(df,'Deaths','Density','color_dict','lakhs')"
   ]
  },
  {
   "cell_type": "code",
   "execution_count": 17,
   "metadata": {},
   "outputs": [
    {
     "data": {
      "text/plain": [
       "<matplotlib.collections.PathCollection at 0x7fdfe32a3750>"
      ]
     },
     "execution_count": 17,
     "metadata": {},
     "output_type": "execute_result"
    },
    {
     "data": {
      "image/png": "[encoded data removed]",
      "text/plain": [
       "<Figure size 576x396 with 1 Axes>"
      ]
     },
     "metadata": {},
     "output_type": "display_data"
    }
   ],
   "source": [
    "#Create a plot by passing Confirmed cases as x axis, Density on Y axis \n",
    "create_scatter_plot(df,'Confirmed','Density','color_dict','crores')"
   ]
  },
  {
   "cell_type": "code",
   "execution_count": 18,
   "metadata": {},
   "outputs": [
    {
     "data": {
      "text/plain": [
       "<matplotlib.collections.PathCollection at 0x7fdfe35357d0>"
      ]
     },
     "execution_count": 18,
     "metadata": {},
     "output_type": "execute_result"
    },
    {
     "data": {
      "image/png": "[encoded data removed]",
      "text/plain": [
       "<Figure size 576x396 with 1 Axes>"
      ]
     },
     "metadata": {},
     "output_type": "display_data"
    }
   ],
   "source": [
    "#Create a plot by passing Active cases as x axis, Density on Y axis \n",
    "create_scatter_plot(df,'Active','Density','color_dict','crores')"
   ]
  },
  {
   "cell_type": "markdown",
   "metadata": {},
   "source": [
    "Uttar Pradesh have highest population density but not reported as many cases as Maharashtra. Although, population density is not even less than half of that of Uttar Pradesh’s. So, there seems to be so concrete relation."
   ]
  }
 ],
 "metadata": {
  "kernelspec": {
   "display_name": "Python 3",
   "language": "python",
   "name": "python3"
  },
  "language_info": {
   "codemirror_mode": {
    "name": "ipython",
    "version": 3
   },
   "file_extension": ".py",
   "mimetype": "text/x-python",
   "name": "python",
   "nbconvert_exporter": "python",
   "pygments_lexer": "ipython3",
   "version": "3.7.4"
  }
 },
 "nbformat": 4,
 "nbformat_minor": 2
}
